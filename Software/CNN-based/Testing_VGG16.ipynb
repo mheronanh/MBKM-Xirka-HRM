{
  "nbformat": 4,
  "nbformat_minor": 0,
  "metadata": {
    "colab": {
      "name": "Testing VGG16.ipynb",
      "provenance": []
    },
    "kernelspec": {
      "name": "python3",
      "display_name": "Python 3"
    },
    "language_info": {
      "name": "python"
    }
  },
  "cells": [
    {
      "cell_type": "markdown",
      "source": [
        "**Loading All the Library Needed**"
      ],
      "metadata": {
        "id": "9Ec31SGM_7yA"
      }
    },
    {
      "cell_type": "code",
      "execution_count": null,
      "metadata": {
        "colab": {
          "base_uri": "https://localhost:8080/"
        },
        "id": "_dX23S1b_1Cx",
        "outputId": "843a56da-af29-4c3d-9e11-6411dc1603e9"
      },
      "outputs": [
        {
          "output_type": "stream",
          "name": "stdout",
          "text": [
            "Mounted at /content/drive\n"
          ]
        }
      ],
      "source": [
        "from google.colab import drive\n",
        "drive.mount('/content/drive')"
      ]
    },
    {
      "cell_type": "code",
      "source": [
        "import numpy as np\n",
        "import pandas as pd\n",
        "from pathlib import Path\n",
        "from sklearn.model_selection import train_test_split\n",
        "import os.path\n",
        "\n",
        "import tensorflow as tf\n",
        "from keras.models import Sequential\n",
        "from keras.layers import Dense, Conv2D, MaxPool2D , Flatten\n",
        "\n",
        "from tensorflow import keras\n",
        "\n",
        "from sklearn.metrics import r2_score\n",
        "\n",
        "import csv"
      ],
      "metadata": {
        "id": "WSpbgreH__lO"
      },
      "execution_count": null,
      "outputs": []
    },
    {
      "cell_type": "markdown",
      "source": [
        "# ICA"
      ],
      "metadata": {
        "id": "nZAgrQQ_AiSV"
      }
    },
    {
      "cell_type": "markdown",
      "source": [
        "**Loading the Model**"
      ],
      "metadata": {
        "id": "WN190Lh9AoFo"
      }
    },
    {
      "cell_type": "code",
      "source": [
        "from keras.models import model_from_json\n",
        "json_file = open('/content/drive/MyDrive/Data/Model/VGG16/ICA/model.json', 'r')\n",
        "model_json = json_file.read()\n",
        "json_file.close()\n",
        "# Loading the model\n",
        "model_ica = model_from_json(model_json)\n",
        "# Loading the weights\n",
        "model_ica.load_weights('/content/drive/MyDrive/Data/Model/VGG16/ICA/model.h5')\n",
        "print('Model is successfully loaded from Drive')\n",
        "print(model_ica.summary())"
      ],
      "metadata": {
        "colab": {
          "base_uri": "https://localhost:8080/"
        },
        "id": "YfTqs130AjgS",
        "outputId": "ec166559-2a7a-40bf-ebb5-fa08640555b8"
      },
      "execution_count": null,
      "outputs": [
        {
          "output_type": "stream",
          "name": "stdout",
          "text": [
            "Model is successfully loaded from Drive\n",
            "Model: \"model\"\n",
            "_________________________________________________________________\n",
            " Layer (type)                Output Shape              Param #   \n",
            "=================================================================\n",
            " input_2 (InputLayer)        [(None, 216, 144, 3)]     0         \n",
            "                                                                 \n",
            " vgg16 (Functional)          (None, 6, 4, 512)         14714688  \n",
            "                                                                 \n",
            " global_average_pooling2d (G  (None, 512)              0         \n",
            " lobalAveragePooling2D)                                          \n",
            "                                                                 \n",
            " dense (Dense)               (None, 1)                 513       \n",
            "                                                                 \n",
            "=================================================================\n",
            "Total params: 14,715,201\n",
            "Trainable params: 513\n",
            "Non-trainable params: 14,714,688\n",
            "_________________________________________________________________\n",
            "None\n"
          ]
        }
      ]
    },
    {
      "cell_type": "markdown",
      "source": [
        "Evaluation Looping for Each Version in Source 3"
      ],
      "metadata": {
        "id": "IJsPFqEZAw1i"
      }
    },
    {
      "cell_type": "code",
      "source": [
        "def evaluate(model, base, i):\n",
        "  image_dir = Path('/content/drive/MyDrive/Data/CNN {}/source3/v{}'.format(base, i))\n",
        "  filepaths = pd.Series(list(image_dir.glob(r'**/*.png')), name='Filepath').astype(str)\n",
        "  bpms = pd.Series(filepaths.apply(lambda x: (os.path.split(os.path.split(x)[1])[1])[:-4]), name='BPMS').astype(np.float64)\n",
        "  images = pd.concat([filepaths, bpms], axis=1).sample(frac=1.0, random_state=1).reset_index(drop=True)\n",
        "\n",
        "  # Printing Info\n",
        "  print(\"-----Currently Working on Version {}-----\".format(i))\n",
        "  print('Total Data: {}'.format(len(images)))\n",
        "\n",
        "  # Building Test Generator\n",
        "  test_image_df = images.sample(len(images), random_state = 1).reset_index(drop=True)\n",
        "  test_generator = tf.keras.preprocessing.image.ImageDataGenerator()\n",
        "  test_images_flow = test_generator.flow_from_dataframe(\n",
        "    dataframe=test_image_df,\n",
        "    x_col='Filepath',\n",
        "    y_col='BPMS',\n",
        "    target_size=(216, 144),\n",
        "    color_mode='rgb',\n",
        "    class_mode='raw',\n",
        "    batch_size=32,\n",
        "    shuffle=False\n",
        "  )\n",
        "\n",
        "  predicted_bpm = np.squeeze(model.predict(test_images_flow))\n",
        "  true_bpm = test_images_flow.labels\n",
        "\n",
        "  # Getting MAE\n",
        "  mae = np.mean(np.abs(predicted_bpm-true_bpm))\n",
        "  print('MAE for Version {}: {}'.format(i, mae))\n",
        "\n",
        "  # Printing to CSV file\n",
        "  header = ['true bpm', 'predicted bpm']\n",
        "  data = []\n",
        "  for x in range(len(true_bpm)):\n",
        "    data.append([true_bpm[x], predicted_bpm[x]])\n",
        "  \n",
        "  with open('{}_v{}.csv'.format(base, i), 'w', encoding='UTF8', newline='') as f:\n",
        "    writer = csv.writer(f)\n",
        "    writer.writerow(header)\n",
        "    writer.writerows(data)"
      ],
      "metadata": {
        "id": "k_ILUqsLAloG"
      },
      "execution_count": null,
      "outputs": []
    },
    {
      "cell_type": "code",
      "source": [
        "for i in range(1, 8):\n",
        "  evaluate(model_ica, 'ICA', i)"
      ],
      "metadata": {
        "colab": {
          "base_uri": "https://localhost:8080/"
        },
        "id": "LcQrR5UNA3Ie",
        "outputId": "14619986-3f73-492c-cff5-282fe0e9da4c"
      },
      "execution_count": null,
      "outputs": [
        {
          "output_type": "stream",
          "name": "stdout",
          "text": [
            "-----Currently Working on Version 1-----\n",
            "Total Data: 104\n",
            "Found 104 validated image filenames.\n",
            "MAE for Version 1: 8.849217183979922\n",
            "-----Currently Working on Version 2-----\n",
            "Total Data: 106\n",
            "Found 106 validated image filenames.\n",
            "MAE for Version 2: 8.907334345681582\n",
            "-----Currently Working on Version 3-----\n",
            "Total Data: 105\n",
            "Found 105 validated image filenames.\n",
            "MAE for Version 3: 9.23073946700496\n",
            "-----Currently Working on Version 4-----\n",
            "Total Data: 105\n",
            "Found 105 validated image filenames.\n",
            "MAE for Version 4: 8.435704722538937\n",
            "-----Currently Working on Version 5-----\n",
            "Total Data: 105\n",
            "Found 105 validated image filenames.\n",
            "MAE for Version 5: 8.544815468687016\n",
            "-----Currently Working on Version 6-----\n",
            "Total Data: 105\n",
            "Found 105 validated image filenames.\n",
            "MAE for Version 6: 9.30701340888049\n",
            "-----Currently Working on Version 7-----\n",
            "Total Data: 105\n",
            "Found 105 validated image filenames.\n",
            "MAE for Version 7: 20.582222358152656\n"
          ]
        }
      ]
    },
    {
      "cell_type": "markdown",
      "source": [
        "# CHROM"
      ],
      "metadata": {
        "id": "6QiBBFbsBqwC"
      }
    },
    {
      "cell_type": "markdown",
      "source": [
        "**Loading the Model**"
      ],
      "metadata": {
        "id": "FGaPuljZBsY9"
      }
    },
    {
      "cell_type": "code",
      "source": [
        "json_file = open('/content/drive/MyDrive/Data/Model/VGG16/CHROM/model.json', 'r')\n",
        "model_json = json_file.read()\n",
        "json_file.close()\n",
        "# Loading the model\n",
        "model_chrom = model_from_json(model_json)\n",
        "# Loading the weights\n",
        "model_chrom.load_weights('/content/drive/MyDrive/Data/Model/VGG16/CHROM/model.h5')\n",
        "print('Model is successfully loaded from Drive')\n",
        "print(model_chrom.summary())"
      ],
      "metadata": {
        "colab": {
          "base_uri": "https://localhost:8080/"
        },
        "id": "gPXfQHOtBr2M",
        "outputId": "f7d71727-9fc5-4b52-aa6e-1afb6748b844"
      },
      "execution_count": null,
      "outputs": [
        {
          "output_type": "stream",
          "name": "stdout",
          "text": [
            "Model is successfully loaded from Drive\n",
            "Model: \"model\"\n",
            "_________________________________________________________________\n",
            " Layer (type)                Output Shape              Param #   \n",
            "=================================================================\n",
            " input_2 (InputLayer)        [(None, 216, 144, 3)]     0         \n",
            "                                                                 \n",
            " vgg16 (Functional)          (None, 6, 4, 512)         14714688  \n",
            "                                                                 \n",
            " global_average_pooling2d (G  (None, 512)              0         \n",
            " lobalAveragePooling2D)                                          \n",
            "                                                                 \n",
            " dense (Dense)               (None, 1)                 513       \n",
            "                                                                 \n",
            "=================================================================\n",
            "Total params: 14,715,201\n",
            "Trainable params: 513\n",
            "Non-trainable params: 14,714,688\n",
            "_________________________________________________________________\n",
            "None\n"
          ]
        }
      ]
    },
    {
      "cell_type": "code",
      "source": [
        "for i in range(1, 8):\n",
        "  evaluate(model_chrom, 'Chrom', i)"
      ],
      "metadata": {
        "colab": {
          "base_uri": "https://localhost:8080/"
        },
        "id": "HhNMSPc6CXqU",
        "outputId": "700a258d-520b-4977-e941-f3fe5972bd01"
      },
      "execution_count": null,
      "outputs": [
        {
          "output_type": "stream",
          "name": "stdout",
          "text": [
            "-----Currently Working on Version 1-----\n",
            "Total Data: 102\n",
            "Found 102 validated image filenames.\n",
            "MAE for Version 1: 8.543312522626067\n",
            "-----Currently Working on Version 2-----\n",
            "Total Data: 106\n",
            "Found 106 validated image filenames.\n",
            "MAE for Version 2: 8.012172448587142\n",
            "-----Currently Working on Version 3-----\n",
            "Total Data: 104\n",
            "Found 104 validated image filenames.\n",
            "MAE for Version 3: 8.31910192033826\n",
            "-----Currently Working on Version 4-----\n",
            "Total Data: 101\n",
            "Found 101 validated image filenames.\n",
            "MAE for Version 4: 7.318983203718975\n",
            "-----Currently Working on Version 5-----\n",
            "Total Data: 100\n",
            "Found 100 validated image filenames.\n",
            "MAE for Version 5: 8.68591066250225\n",
            "-----Currently Working on Version 6-----\n",
            "Total Data: 101\n",
            "Found 101 validated image filenames.\n",
            "MAE for Version 6: 8.746916500573441\n",
            "-----Currently Working on Version 7-----\n",
            "Total Data: 103\n",
            "Found 103 validated image filenames.\n",
            "MAE for Version 7: 19.55304110633073\n"
          ]
        }
      ]
    },
    {
      "cell_type": "markdown",
      "source": [
        "# PCA"
      ],
      "metadata": {
        "id": "vayclqZfCbTX"
      }
    },
    {
      "cell_type": "markdown",
      "source": [
        "**Loading the Model**"
      ],
      "metadata": {
        "id": "yta3hCniCcvm"
      }
    },
    {
      "cell_type": "code",
      "source": [
        "json_file = open('/content/drive/MyDrive/Data/Model/VGG16/PCA/model.json', 'r')\n",
        "model_json = json_file.read()\n",
        "json_file.close()\n",
        "# Loading the model\n",
        "model_pca = model_from_json(model_json)\n",
        "# Loading the weights\n",
        "model_pca.load_weights('/content/drive/MyDrive/Data/Model/VGG16/PCA/model.h5')\n",
        "print('Model is successfully loaded from Drive')\n",
        "print(model_pca.summary())"
      ],
      "metadata": {
        "colab": {
          "base_uri": "https://localhost:8080/"
        },
        "id": "UbrANO1LCcUW",
        "outputId": "25886ca0-dfca-446c-b9cf-a5099e18f8a3"
      },
      "execution_count": null,
      "outputs": [
        {
          "output_type": "stream",
          "name": "stdout",
          "text": [
            "Model is successfully loaded from Drive\n",
            "Model: \"model\"\n",
            "_________________________________________________________________\n",
            " Layer (type)                Output Shape              Param #   \n",
            "=================================================================\n",
            " input_2 (InputLayer)        [(None, 216, 144, 3)]     0         \n",
            "                                                                 \n",
            " vgg16 (Functional)          (None, 6, 4, 512)         14714688  \n",
            "                                                                 \n",
            " global_average_pooling2d (G  (None, 512)              0         \n",
            " lobalAveragePooling2D)                                          \n",
            "                                                                 \n",
            " dense (Dense)               (None, 1)                 513       \n",
            "                                                                 \n",
            "=================================================================\n",
            "Total params: 14,715,201\n",
            "Trainable params: 513\n",
            "Non-trainable params: 14,714,688\n",
            "_________________________________________________________________\n",
            "None\n"
          ]
        }
      ]
    },
    {
      "cell_type": "code",
      "source": [
        "for i in range(1, 8):\n",
        "  evaluate(model_pca, 'PCA', i)"
      ],
      "metadata": {
        "colab": {
          "base_uri": "https://localhost:8080/"
        },
        "id": "o0ZT6iJWCnQp",
        "outputId": "8431037b-d8c5-4166-e34c-1e0d976cad04"
      },
      "execution_count": null,
      "outputs": [
        {
          "output_type": "stream",
          "name": "stdout",
          "text": [
            "-----Currently Working on Version 1-----\n",
            "Total Data: 103\n",
            "Found 103 validated image filenames.\n",
            "MAE for Version 1: 9.29883839867496\n",
            "-----Currently Working on Version 2-----\n",
            "Total Data: 106\n",
            "Found 106 validated image filenames.\n",
            "MAE for Version 2: 9.54786481386609\n",
            "-----Currently Working on Version 3-----\n",
            "Total Data: 106\n",
            "Found 106 validated image filenames.\n",
            "MAE for Version 3: 9.458259251149071\n",
            "-----Currently Working on Version 4-----\n",
            "Total Data: 105\n",
            "Found 105 validated image filenames.\n",
            "MAE for Version 4: 8.701536117209903\n",
            "-----Currently Working on Version 5-----\n",
            "Total Data: 105\n",
            "Found 105 validated image filenames.\n",
            "MAE for Version 5: 8.940403848874125\n",
            "-----Currently Working on Version 6-----\n",
            "Total Data: 105\n",
            "Found 105 validated image filenames.\n",
            "MAE for Version 6: 9.255845217013714\n",
            "-----Currently Working on Version 7-----\n",
            "Total Data: 104\n",
            "Found 104 validated image filenames.\n",
            "MAE for Version 7: 21.884567286503707\n"
          ]
        }
      ]
    },
    {
      "cell_type": "code",
      "source": [
        ""
      ],
      "metadata": {
        "id": "qzwbmI8AYZP2"
      },
      "execution_count": null,
      "outputs": []
    }
  ]
}