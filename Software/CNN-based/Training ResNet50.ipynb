{
  "nbformat": 4,
  "nbformat_minor": 0,
  "metadata": {
    "colab": {
      "name": "ResNet50.ipynb",
      "provenance": [],
      "collapsed_sections": []
    },
    "kernelspec": {
      "name": "python3",
      "display_name": "Python 3"
    },
    "language_info": {
      "name": "python"
    }
  },
  "cells": [
    {
      "cell_type": "code",
      "execution_count": null,
      "metadata": {
        "colab": {
          "base_uri": "https://localhost:8080/"
        },
        "id": "M-XRcEO9HOJa",
        "outputId": "08abfc0a-fb2f-4512-a411-b08216a72f35"
      },
      "outputs": [
        {
          "output_type": "stream",
          "name": "stdout",
          "text": [
            "Mounted at /content/drive\n"
          ]
        }
      ],
      "source": [
        "from google.colab import drive\n",
        "drive.mount('/content/drive')"
      ]
    },
    {
      "cell_type": "code",
      "source": [
        "import numpy as np\n",
        "import pandas as pd\n",
        "from pathlib import Path\n",
        "from sklearn.model_selection import train_test_split\n",
        "import os.path\n",
        "\n",
        "import tensorflow as tf\n",
        "from keras.models import Sequential\n",
        "from keras.layers import Dense, Conv2D, MaxPool2D , Flatten\n",
        "\n",
        "from tensorflow import keras\n",
        "\n",
        "from sklearn.metrics import r2_score"
      ],
      "metadata": {
        "id": "k-adyzTsHW0S"
      },
      "execution_count": null,
      "outputs": []
    },
    {
      "cell_type": "code",
      "source": [
        "image_dir = Path('/content/drive/MyDrive/Data/CNN PCA/source2')"
      ],
      "metadata": {
        "id": "GCFqsKiQIBp6"
      },
      "execution_count": null,
      "outputs": []
    },
    {
      "cell_type": "code",
      "source": [
        "filepaths = pd.Series(list(image_dir.glob(r'**/*.png')), name='Filepath').astype(str)"
      ],
      "metadata": {
        "id": "PgSV61kpIDff"
      },
      "execution_count": null,
      "outputs": []
    },
    {
      "cell_type": "code",
      "source": [
        "bpms = pd.Series(filepaths.apply(lambda x: (os.path.split(os.path.split(x)[1])[1])[:-4]), name='BPMS').astype(np.float64)"
      ],
      "metadata": {
        "id": "4BlzXE4rIJyQ"
      },
      "execution_count": null,
      "outputs": []
    },
    {
      "cell_type": "code",
      "source": [
        "images = pd.concat([filepaths, bpms], axis=1).sample(frac=1.0, random_state=1).reset_index(drop=True)"
      ],
      "metadata": {
        "id": "uMwRdSwwILp0"
      },
      "execution_count": null,
      "outputs": []
    },
    {
      "cell_type": "code",
      "source": [
        "image_df = images.sample(len(images), random_state = 1).reset_index(drop=True)\n",
        "train_df, test_df = train_test_split(image_df, train_size= 0.7, shuffle= True, random_state=1)"
      ],
      "metadata": {
        "id": "rXIjzEtEINKQ"
      },
      "execution_count": null,
      "outputs": []
    },
    {
      "cell_type": "code",
      "source": [
        "len(images)"
      ],
      "metadata": {
        "colab": {
          "base_uri": "https://localhost:8080/"
        },
        "id": "L3b5n0HXRGzW",
        "outputId": "4c03a665-06ef-4183-de75-eb4cbd81bbcb"
      },
      "execution_count": null,
      "outputs": [
        {
          "output_type": "execute_result",
          "data": {
            "text/plain": [
              "739"
            ]
          },
          "metadata": {},
          "execution_count": 8
        }
      ]
    },
    {
      "cell_type": "code",
      "source": [
        "train_generator = tf.keras.preprocessing.image.ImageDataGenerator(\n",
        "    validation_split=0.4\n",
        ")\n",
        "\n",
        "test_generator = tf.keras.preprocessing.image.ImageDataGenerator(\n",
        ")\n",
        "\n",
        "train_images = train_generator.flow_from_dataframe(\n",
        "    dataframe=train_df,\n",
        "    x_col='Filepath',\n",
        "    y_col='BPMS',\n",
        "    target_size=(216, 144),\n",
        "    color_mode='rgb',\n",
        "    class_mode='raw',\n",
        "    batch_size=32,\n",
        "    shuffle=True,\n",
        "    seed=42,\n",
        "    subset='training'\n",
        ")\n",
        "\n",
        "val_images = train_generator.flow_from_dataframe(\n",
        "    dataframe=train_df,\n",
        "    x_col='Filepath',\n",
        "    y_col='BPMS',\n",
        "    target_size=(216, 144),\n",
        "    color_mode='rgb',\n",
        "    class_mode='raw',\n",
        "    batch_size=32,\n",
        "    shuffle=True,\n",
        "    seed=42,\n",
        "    subset='validation'\n",
        ")\n",
        "\n",
        "test_images = test_generator.flow_from_dataframe(\n",
        "    dataframe=test_df,\n",
        "    x_col='Filepath',\n",
        "    y_col='BPMS',\n",
        "    target_size=(216, 144),\n",
        "    color_mode='rgb',\n",
        "    class_mode='raw',\n",
        "    batch_size=32,\n",
        "    shuffle=False\n",
        ")"
      ],
      "metadata": {
        "colab": {
          "base_uri": "https://localhost:8080/"
        },
        "id": "SXtgxuWIIPHQ",
        "outputId": "7af8b2b5-63a5-4bea-a7ba-08fccb3aa8d6"
      },
      "execution_count": null,
      "outputs": [
        {
          "output_type": "stream",
          "name": "stdout",
          "text": [
            "Found 311 validated image filenames.\n",
            "Found 206 validated image filenames.\n",
            "Found 222 validated image filenames.\n"
          ]
        }
      ]
    },
    {
      "cell_type": "code",
      "source": [
        "base_model = keras.applications.ResNet50(\n",
        "    weights='imagenet',  # Load weights pre-trained on ImageNet.\n",
        "    input_shape=(216, 144, 3),\n",
        "    include_top=False)  # Do not include the ImageNet classifier at the top."
      ],
      "metadata": {
        "id": "9ROkXQ6vISLl",
        "colab": {
          "base_uri": "https://localhost:8080/"
        },
        "outputId": "d035de73-90a8-44ac-c2ce-9d94f1a655b8"
      },
      "execution_count": null,
      "outputs": [
        {
          "output_type": "stream",
          "name": "stdout",
          "text": [
            "Downloading data from https://storage.googleapis.com/tensorflow/keras-applications/resnet/resnet50_weights_tf_dim_ordering_tf_kernels_notop.h5\n",
            "94773248/94765736 [==============================] - 1s 0us/step\n",
            "94781440/94765736 [==============================] - 1s 0us/step\n"
          ]
        }
      ]
    },
    {
      "cell_type": "code",
      "source": [
        "base_model.trainable = False"
      ],
      "metadata": {
        "id": "v-cvAmsqIX27"
      },
      "execution_count": null,
      "outputs": []
    },
    {
      "cell_type": "code",
      "source": [
        "inputs = keras.Input(shape=(216, 144, 3))\n",
        "# We make sure that the base_model is running in inference mode here,\n",
        "# by passing `training=False`. This is important for fine-tuning, as you will\n",
        "# learn in a few paragraphs.\n",
        "x = base_model(inputs, training=False)\n",
        "# Convert features of shape `base_model.output_shape[1:]` to vectors\n",
        "x = keras.layers.GlobalAveragePooling2D()(x)\n",
        "# A Dense classifier with a single unit (binary classification)\n",
        "outputs = keras.layers.Dense(1, activation='linear')(x)\n",
        "model = keras.Model(inputs, outputs)"
      ],
      "metadata": {
        "id": "bbgXsmi_IaVN"
      },
      "execution_count": null,
      "outputs": []
    },
    {
      "cell_type": "markdown",
      "source": [
        "**Training #1**"
      ],
      "metadata": {
        "id": "0wqjoaQbfplR"
      }
    },
    {
      "cell_type": "code",
      "source": [
        "model.compile(\n",
        "    optimizer='adam',\n",
        "    loss='mae'\n",
        ")\n",
        "\n",
        "history = model.fit(\n",
        "    train_images,\n",
        "    validation_data=val_images,\n",
        "    epochs=50,\n",
        "    callbacks=[\n",
        "        tf.keras.callbacks.EarlyStopping(\n",
        "            monitor='val_loss',\n",
        "            patience=5,\n",
        "            restore_best_weights=True\n",
        "        )\n",
        "    ]\n",
        ")"
      ],
      "metadata": {
        "colab": {
          "base_uri": "https://localhost:8080/"
        },
        "id": "W9BPObhQIcMj",
        "outputId": "cfa99021-b077-43c4-b900-d5e4ea5c0162"
      },
      "execution_count": null,
      "outputs": [
        {
          "output_type": "stream",
          "name": "stdout",
          "text": [
            "Epoch 1/50\n",
            "10/10 [==============================] - 138s 12s/step - loss: 79.6031 - val_loss: 77.0914\n",
            "Epoch 2/50\n",
            "10/10 [==============================] - 55s 6s/step - loss: 76.0513 - val_loss: 73.5556\n",
            "Epoch 3/50\n",
            "10/10 [==============================] - 55s 6s/step - loss: 72.5354 - val_loss: 70.0267\n",
            "Epoch 4/50\n",
            "10/10 [==============================] - 55s 6s/step - loss: 69.0783 - val_loss: 66.4966\n",
            "Epoch 5/50\n",
            "10/10 [==============================] - 55s 6s/step - loss: 65.5658 - val_loss: 62.9688\n",
            "Epoch 6/50\n",
            "10/10 [==============================] - 55s 6s/step - loss: 62.1055 - val_loss: 59.4329\n",
            "Epoch 7/50\n",
            "10/10 [==============================] - 55s 6s/step - loss: 58.5914 - val_loss: 55.9011\n",
            "Epoch 8/50\n",
            "10/10 [==============================] - 54s 6s/step - loss: 55.0772 - val_loss: 52.3628\n",
            "Epoch 9/50\n",
            "10/10 [==============================] - 55s 6s/step - loss: 51.5078 - val_loss: 48.8341\n",
            "Epoch 10/50\n",
            "10/10 [==============================] - 55s 6s/step - loss: 47.9852 - val_loss: 45.2998\n",
            "Epoch 11/50\n",
            "10/10 [==============================] - 55s 6s/step - loss: 44.5442 - val_loss: 41.7749\n",
            "Epoch 12/50\n",
            "10/10 [==============================] - 55s 6s/step - loss: 41.0402 - val_loss: 38.2366\n",
            "Epoch 13/50\n",
            "10/10 [==============================] - 55s 6s/step - loss: 37.4940 - val_loss: 34.6988\n",
            "Epoch 14/50\n",
            "10/10 [==============================] - 55s 6s/step - loss: 33.9700 - val_loss: 31.1979\n",
            "Epoch 15/50\n",
            "10/10 [==============================] - 55s 6s/step - loss: 30.5604 - val_loss: 27.7523\n",
            "Epoch 16/50\n",
            "10/10 [==============================] - 55s 6s/step - loss: 27.2845 - val_loss: 24.5351\n",
            "Epoch 17/50\n",
            "10/10 [==============================] - 55s 6s/step - loss: 24.2617 - val_loss: 21.8187\n",
            "Epoch 18/50\n",
            "10/10 [==============================] - 55s 6s/step - loss: 21.8604 - val_loss: 19.4819\n",
            "Epoch 19/50\n",
            "10/10 [==============================] - 55s 6s/step - loss: 19.8242 - val_loss: 17.6581\n",
            "Epoch 20/50\n",
            "10/10 [==============================] - 55s 6s/step - loss: 18.3285 - val_loss: 16.3933\n",
            "Epoch 21/50\n",
            "10/10 [==============================] - 55s 6s/step - loss: 17.3137 - val_loss: 15.5696\n",
            "Epoch 22/50\n",
            "10/10 [==============================] - 55s 6s/step - loss: 16.5031 - val_loss: 15.0329\n",
            "Epoch 23/50\n",
            "10/10 [==============================] - 55s 6s/step - loss: 15.9195 - val_loss: 14.6852\n",
            "Epoch 24/50\n",
            "10/10 [==============================] - 54s 6s/step - loss: 15.4608 - val_loss: 14.4317\n",
            "Epoch 25/50\n",
            "10/10 [==============================] - 55s 6s/step - loss: 15.1269 - val_loss: 14.2409\n",
            "Epoch 26/50\n",
            "10/10 [==============================] - 54s 6s/step - loss: 14.8944 - val_loss: 14.1080\n",
            "Epoch 27/50\n",
            "10/10 [==============================] - 54s 6s/step - loss: 14.7207 - val_loss: 14.0302\n",
            "Epoch 28/50\n",
            "10/10 [==============================] - 54s 6s/step - loss: 14.5827 - val_loss: 13.9802\n",
            "Epoch 29/50\n",
            "10/10 [==============================] - 54s 6s/step - loss: 14.4870 - val_loss: 13.9432\n",
            "Epoch 30/50\n",
            "10/10 [==============================] - 54s 6s/step - loss: 14.3994 - val_loss: 13.9106\n",
            "Epoch 31/50\n",
            "10/10 [==============================] - 54s 6s/step - loss: 14.3182 - val_loss: 13.8751\n",
            "Epoch 32/50\n",
            "10/10 [==============================] - 54s 6s/step - loss: 14.2361 - val_loss: 13.8301\n",
            "Epoch 33/50\n",
            "10/10 [==============================] - 55s 6s/step - loss: 14.1625 - val_loss: 13.7937\n",
            "Epoch 34/50\n",
            "10/10 [==============================] - 55s 6s/step - loss: 14.0866 - val_loss: 13.7486\n",
            "Epoch 35/50\n",
            "10/10 [==============================] - 55s 6s/step - loss: 14.0092 - val_loss: 13.7081\n",
            "Epoch 36/50\n",
            "10/10 [==============================] - 55s 6s/step - loss: 13.9363 - val_loss: 13.6694\n",
            "Epoch 37/50\n",
            "10/10 [==============================] - 54s 6s/step - loss: 13.8634 - val_loss: 13.6221\n",
            "Epoch 38/50\n",
            "10/10 [==============================] - 54s 6s/step - loss: 13.7914 - val_loss: 13.5724\n",
            "Epoch 39/50\n",
            "10/10 [==============================] - 54s 6s/step - loss: 13.7244 - val_loss: 13.5018\n",
            "Epoch 40/50\n",
            "10/10 [==============================] - 54s 6s/step - loss: 13.6494 - val_loss: 13.4564\n",
            "Epoch 41/50\n",
            "10/10 [==============================] - 54s 6s/step - loss: 13.5790 - val_loss: 13.3938\n",
            "Epoch 42/50\n",
            "10/10 [==============================] - 54s 6s/step - loss: 13.5061 - val_loss: 13.3422\n",
            "Epoch 43/50\n",
            "10/10 [==============================] - 54s 6s/step - loss: 13.4412 - val_loss: 13.2914\n",
            "Epoch 44/50\n",
            "10/10 [==============================] - 54s 6s/step - loss: 13.3737 - val_loss: 13.2334\n",
            "Epoch 45/50\n",
            "10/10 [==============================] - 54s 6s/step - loss: 13.3170 - val_loss: 13.1740\n",
            "Epoch 46/50\n",
            "10/10 [==============================] - 53s 6s/step - loss: 13.2514 - val_loss: 13.1283\n",
            "Epoch 47/50\n",
            "10/10 [==============================] - 54s 6s/step - loss: 13.1879 - val_loss: 13.0845\n",
            "Epoch 48/50\n",
            "10/10 [==============================] - 54s 6s/step - loss: 13.1316 - val_loss: 13.0296\n",
            "Epoch 49/50\n",
            "10/10 [==============================] - 54s 6s/step - loss: 13.0716 - val_loss: 12.9750\n",
            "Epoch 50/50\n",
            "10/10 [==============================] - 54s 6s/step - loss: 13.0147 - val_loss: 12.9162\n"
          ]
        }
      ]
    },
    {
      "cell_type": "code",
      "source": [
        "from keras.models import model_from_json\n",
        "# serialize model to JSON\n",
        "model_json = model.to_json()\n",
        "with open(\"model.json\", \"w\") as json_file:\n",
        "    json_file.write(model_json)\n",
        "# serialize weights to HDF5\n",
        "model.save_weights(\"model.h5\")\n",
        "print(\"Saved model to disk\")"
      ],
      "metadata": {
        "colab": {
          "base_uri": "https://localhost:8080/"
        },
        "id": "CdCarYAvIiEz",
        "outputId": "c396443a-4084-4376-a75c-8cdbe88c1fd9"
      },
      "execution_count": null,
      "outputs": [
        {
          "output_type": "stream",
          "name": "stderr",
          "text": [
            "/usr/local/lib/python3.7/dist-packages/keras/engine/functional.py:1410: CustomMaskWarning: Custom mask layers require a config and must override get_config. When loading, the custom mask layer must be passed to the custom_objects argument.\n",
            "  layer_config = serialize_layer_fn(layer)\n"
          ]
        },
        {
          "output_type": "stream",
          "name": "stdout",
          "text": [
            "Saved model to disk\n"
          ]
        }
      ]
    },
    {
      "cell_type": "markdown",
      "source": [
        "**Training #2**"
      ],
      "metadata": {
        "id": "s_HM0Y0jftct"
      }
    },
    {
      "cell_type": "code",
      "source": [
        "from keras.models import model_from_json\n",
        "# load json and create model\n",
        "json_file = open('model.json', 'r')\n",
        "loaded_model_json = json_file.read()\n",
        "json_file.close()\n",
        "loaded_model = model_from_json(loaded_model_json)\n",
        "# load weights into new model\n",
        "loaded_model.load_weights(\"model.h5\")\n",
        "print(\"Loaded model from disk\")"
      ],
      "metadata": {
        "colab": {
          "base_uri": "https://localhost:8080/"
        },
        "id": "OddGGx5RlaZM",
        "outputId": "a2f5c693-e9e3-4586-a822-d372d777acfc"
      },
      "execution_count": null,
      "outputs": [
        {
          "output_type": "stream",
          "name": "stdout",
          "text": [
            "Loaded model from disk\n"
          ]
        }
      ]
    },
    {
      "cell_type": "code",
      "source": [
        "opt = keras.optimizers.Adam(learning_rate=0.001)\n",
        "loaded_model.compile(\n",
        "    optimizer=opt,\n",
        "    loss='mae'\n",
        ")\n",
        "\n",
        "history = loaded_model.fit(\n",
        "    train_images,\n",
        "    validation_data=val_images,\n",
        "    epochs=20,\n",
        "    callbacks=[\n",
        "        tf.keras.callbacks.EarlyStopping(\n",
        "            monitor='val_loss',\n",
        "            patience=5,\n",
        "            restore_best_weights=True\n",
        "        )\n",
        "    ]\n",
        ")"
      ],
      "metadata": {
        "colab": {
          "base_uri": "https://localhost:8080/"
        },
        "id": "afg5gjqil7gT",
        "outputId": "883bbb52-7548-4167-bce9-1fb2f3736611"
      },
      "execution_count": null,
      "outputs": [
        {
          "output_type": "stream",
          "name": "stdout",
          "text": [
            "Epoch 1/20\n",
            "10/10 [==============================] - 63s 6s/step - loss: 11.1542 - val_loss: 11.4140\n",
            "Epoch 2/20\n",
            "10/10 [==============================] - 58s 6s/step - loss: 11.0896 - val_loss: 11.3761\n",
            "Epoch 3/20\n",
            "10/10 [==============================] - 57s 6s/step - loss: 11.0538 - val_loss: 11.3470\n",
            "Epoch 4/20\n",
            "10/10 [==============================] - 56s 6s/step - loss: 11.0264 - val_loss: 11.3261\n",
            "Epoch 5/20\n",
            "10/10 [==============================] - 56s 6s/step - loss: 10.9871 - val_loss: 11.3044\n",
            "Epoch 6/20\n",
            "10/10 [==============================] - 56s 6s/step - loss: 10.9644 - val_loss: 11.2486\n",
            "Epoch 7/20\n",
            "10/10 [==============================] - 54s 6s/step - loss: 10.9230 - val_loss: 11.2508\n",
            "Epoch 8/20\n",
            "10/10 [==============================] - 55s 6s/step - loss: 10.8894 - val_loss: 11.2475\n",
            "Epoch 9/20\n",
            "10/10 [==============================] - 55s 6s/step - loss: 10.8644 - val_loss: 11.2076\n",
            "Epoch 10/20\n",
            "10/10 [==============================] - 55s 6s/step - loss: 10.8377 - val_loss: 11.2288\n",
            "Epoch 11/20\n",
            "10/10 [==============================] - 55s 6s/step - loss: 10.8132 - val_loss: 11.1531\n",
            "Epoch 12/20\n",
            "10/10 [==============================] - 56s 6s/step - loss: 10.7728 - val_loss: 11.1356\n",
            "Epoch 13/20\n",
            "10/10 [==============================] - 61s 6s/step - loss: 10.7442 - val_loss: 11.1485\n",
            "Epoch 14/20\n",
            "10/10 [==============================] - 55s 6s/step - loss: 10.7265 - val_loss: 11.1278\n",
            "Epoch 15/20\n",
            "10/10 [==============================] - 57s 6s/step - loss: 10.6934 - val_loss: 11.1086\n",
            "Epoch 16/20\n",
            "10/10 [==============================] - 56s 6s/step - loss: 10.6656 - val_loss: 11.0909\n",
            "Epoch 17/20\n",
            "10/10 [==============================] - 55s 6s/step - loss: 10.6507 - val_loss: 11.1081\n",
            "Epoch 18/20\n",
            "10/10 [==============================] - 55s 6s/step - loss: 10.6216 - val_loss: 11.0576\n",
            "Epoch 19/20\n",
            "10/10 [==============================] - 56s 6s/step - loss: 10.5999 - val_loss: 11.0456\n",
            "Epoch 20/20\n",
            "10/10 [==============================] - 55s 6s/step - loss: 10.5851 - val_loss: 11.0635\n"
          ]
        }
      ]
    },
    {
      "cell_type": "code",
      "source": [
        "from keras.models import model_from_json\n",
        "# serialize model to JSON\n",
        "model_json = loaded_model.to_json()\n",
        "with open(\"model.json\", \"w\") as json_file:\n",
        "    json_file.write(model_json)\n",
        "# serialize weights to HDF5\n",
        "loaded_model.save_weights(\"model.h5\")\n",
        "print(\"Saved model to disk\")"
      ],
      "metadata": {
        "colab": {
          "base_uri": "https://localhost:8080/"
        },
        "id": "yrTpqatsqcu4",
        "outputId": "6a35f468-1fbc-4e71-db8b-2cb7733d2894"
      },
      "execution_count": null,
      "outputs": [
        {
          "output_type": "stream",
          "name": "stderr",
          "text": [
            "/usr/local/lib/python3.7/dist-packages/keras/engine/functional.py:1410: CustomMaskWarning: Custom mask layers require a config and must override get_config. When loading, the custom mask layer must be passed to the custom_objects argument.\n",
            "  layer_config = serialize_layer_fn(layer)\n"
          ]
        },
        {
          "output_type": "stream",
          "name": "stdout",
          "text": [
            "Saved model to disk\n"
          ]
        }
      ]
    },
    {
      "cell_type": "code",
      "source": [
        "predicted_bpm = np.squeeze(model.predict(test_images))\n",
        "true_bpm  = test_images.labels\n",
        "\n",
        "rmse = np.sqrt(model.evaluate(test_images, verbose=0))\n",
        "print('Test RMSE: {:.5f}'.format(rmse))\n",
        "\n",
        "r2 = r2_score(true_bpm, predicted_bpm)\n",
        "print('Test R2 Score: {:.5f}'.format(r2))"
      ],
      "metadata": {
        "colab": {
          "base_uri": "https://localhost:8080/"
        },
        "id": "pKA-b2Qq7_Yo",
        "outputId": "8f8d5406-db30-47a5-8500-ac9c6b43b15b"
      },
      "execution_count": null,
      "outputs": [
        {
          "output_type": "stream",
          "name": "stdout",
          "text": [
            "Test RMSE: 3.15528\n",
            "Test R2 Score: -0.09998\n"
          ]
        }
      ]
    },
    {
      "cell_type": "code",
      "source": [
        "max(predicted_bpm)"
      ],
      "metadata": {
        "colab": {
          "base_uri": "https://localhost:8080/"
        },
        "id": "F129w6OB8IyL",
        "outputId": "71bf6701-5b63-4b04-e3b0-e5ad90a03558"
      },
      "execution_count": null,
      "outputs": [
        {
          "output_type": "execute_result",
          "data": {
            "text/plain": [
              "91.93422"
            ]
          },
          "metadata": {},
          "execution_count": 18
        }
      ]
    },
    {
      "cell_type": "code",
      "source": [
        "max(true_bpm)"
      ],
      "metadata": {
        "colab": {
          "base_uri": "https://localhost:8080/"
        },
        "id": "s3_U9_Q3-Z7m",
        "outputId": "b7c834dd-9a2e-4860-c7a3-daebaa8038c3"
      },
      "execution_count": null,
      "outputs": [
        {
          "output_type": "execute_result",
          "data": {
            "text/plain": [
              "146.52380952380952"
            ]
          },
          "metadata": {},
          "execution_count": 20
        }
      ]
    },
    {
      "cell_type": "code",
      "source": [
        "np.mean(np.abs(predicted_bpm-true_bpm))"
      ],
      "metadata": {
        "colab": {
          "base_uri": "https://localhost:8080/"
        },
        "id": "hT1UrCgO-lVz",
        "outputId": "bbe2398f-134f-45e8-b93a-429915ab13e0"
      },
      "execution_count": null,
      "outputs": [
        {
          "output_type": "execute_result",
          "data": {
            "text/plain": [
              "9.955815647977412"
            ]
          },
          "metadata": {},
          "execution_count": 21
        }
      ]
    },
    {
      "cell_type": "code",
      "source": [
        "test_image_dir = Path('/content/drive/MyDrive/Data/CNN ICA/source2/v8')\n",
        "test_filepaths = pd.Series(list(test_image_dir.glob(r'**/*.png')), name='Filepath').astype(str)\n",
        "test_bpms = pd.Series(test_filepaths.apply(lambda x: (os.path.split(os.path.split(x)[1])[1])[:-4]), name='BPMS').astype(np.float64)\n",
        "test_images = pd.concat([test_filepaths, test_bpms], axis=1).sample(frac=1.0, random_state=1).reset_index(drop=True)"
      ],
      "metadata": {
        "colab": {
          "base_uri": "https://localhost:8080/"
        },
        "id": "HbSXeMwF-t6I",
        "outputId": "d1affccc-287f-485b-d8bd-3ff15ea4f1e5"
      },
      "execution_count": null,
      "outputs": [
        {
          "output_type": "stream",
          "name": "stderr",
          "text": [
            "/usr/local/lib/python3.7/dist-packages/ipykernel_launcher.py:2: DeprecationWarning: The default dtype for empty Series will be 'object' instead of 'float64' in a future version. Specify a dtype explicitly to silence this warning.\n",
            "  \n"
          ]
        }
      ]
    },
    {
      "cell_type": "code",
      "source": [
        "len(test_images)"
      ],
      "metadata": {
        "colab": {
          "base_uri": "https://localhost:8080/"
        },
        "id": "9TehXeZVCoxb",
        "outputId": "530bf58a-80a9-4dec-dfa3-f58dfa93c438"
      },
      "execution_count": null,
      "outputs": [
        {
          "output_type": "execute_result",
          "data": {
            "text/plain": [
              "105"
            ]
          },
          "metadata": {},
          "execution_count": 105
        }
      ]
    },
    {
      "cell_type": "code",
      "source": [
        "test_image_df = test_images.sample(105, random_state = 1).reset_index(drop=True)\n",
        "test_generator = tf.keras.preprocessing.image.ImageDataGenerator(\n",
        ")\n",
        "test_images_flow = test_generator.flow_from_dataframe(\n",
        "    dataframe=test_image_df,\n",
        "    x_col='Filepath',\n",
        "    y_col='BPMS',\n",
        "    target_size=(216, 144),\n",
        "    color_mode='rgb',\n",
        "    class_mode='raw',\n",
        "    batch_size=32,\n",
        "    shuffle=False\n",
        ")"
      ],
      "metadata": {
        "colab": {
          "base_uri": "https://localhost:8080/"
        },
        "id": "HbpSFmQg_eJL",
        "outputId": "33ff3d41-6019-4174-83cd-fad6660f6e6f"
      },
      "execution_count": null,
      "outputs": [
        {
          "output_type": "stream",
          "name": "stdout",
          "text": [
            "Found 105 validated image filenames.\n"
          ]
        }
      ]
    },
    {
      "cell_type": "code",
      "source": [
        "predicted_bpm = np.squeeze(model.predict(test_images_flow))\n",
        "true_bpm  = test_images_flow.labels"
      ],
      "metadata": {
        "id": "a_cqxS_wABek"
      },
      "execution_count": null,
      "outputs": []
    },
    {
      "cell_type": "code",
      "source": [
        "np.mean(np.abs(predicted_bpm-true_bpm))"
      ],
      "metadata": {
        "colab": {
          "base_uri": "https://localhost:8080/"
        },
        "id": "nbxPhY27AH9P",
        "outputId": "735babe0-d78c-4a8b-e380-de8f179193b1"
      },
      "execution_count": null,
      "outputs": [
        {
          "output_type": "execute_result",
          "data": {
            "text/plain": [
              "11.881046956791165"
            ]
          },
          "metadata": {},
          "execution_count": 108
        }
      ]
    },
    {
      "cell_type": "code",
      "source": [
        "predicted_bpm"
      ],
      "metadata": {
        "colab": {
          "base_uri": "https://localhost:8080/"
        },
        "id": "V66OpmmsBTW_",
        "outputId": "53a635d7-98bf-42b2-ad7e-988090be9f25"
      },
      "execution_count": null,
      "outputs": [
        {
          "output_type": "execute_result",
          "data": {
            "text/plain": [
              "array([83.48346 , 77.90767 , 80.190125, 77.94206 , 79.538536, 77.562744,\n",
              "       78.28451 , 78.23456 , 77.13828 , 79.25375 , 77.01563 , 80.40961 ,\n",
              "       79.86366 , 80.275955, 76.150314, 78.73187 , 77.77386 , 76.98876 ,\n",
              "       73.69743 , 81.71245 , 80.45623 , 76.50362 , 77.3042  , 83.04311 ,\n",
              "       78.75156 , 79.16561 , 78.438644, 74.09755 , 80.0482  , 73.57709 ,\n",
              "       80.034744, 77.043274, 78.40629 , 82.76926 , 78.19068 , 83.15059 ,\n",
              "       76.942276, 76.55005 , 75.27224 , 77.36964 , 77.62869 , 80.35218 ,\n",
              "       78.77774 , 77.920395, 78.15559 , 84.304535, 78.11423 , 77.53462 ,\n",
              "       78.73544 , 77.72739 , 72.65702 , 81.47362 , 83.08504 , 75.06857 ,\n",
              "       75.72966 , 74.88263 , 75.49421 , 74.04792 , 77.447624, 77.577736,\n",
              "       77.8412  , 80.02667 , 75.88284 , 74.940605, 78.99249 , 76.48762 ,\n",
              "       84.45316 , 81.0774  , 80.90716 , 77.308914, 76.19949 , 79.09288 ,\n",
              "       75.671616, 83.09895 , 78.48091 , 79.85566 , 80.06098 , 82.6839  ,\n",
              "       78.22043 , 88.49462 , 88.07305 , 76.88611 , 76.3093  , 75.85713 ,\n",
              "       76.853264, 78.723114, 81.446014, 79.791306, 73.94558 , 77.42337 ,\n",
              "       80.96089 , 79.22037 , 83.963684, 80.90709 , 76.250984, 78.43457 ,\n",
              "       76.50253 , 80.16477 , 75.59941 , 76.3369  , 82.07838 , 76.10017 ,\n",
              "       73.75084 , 74.686905], dtype=float32)"
            ]
          },
          "metadata": {},
          "execution_count": 78
        }
      ]
    },
    {
      "cell_type": "code",
      "source": [
        "for i in range(1,3):  \n",
        "  test_image_dir = Path('/content/drive/MyDrive/Data/CNN ICA/source3/v{}'.format(i))\n",
        "  test_filepaths = pd.Series(list(test_image_dir.glob(r'**/*.png')), name='Filepath').astype(str)\n",
        "  test_bpms = pd.Series(test_filepaths.apply(lambda x: (os.path.split(os.path.split(x)[1])[1])[:-4]), name='BPMS').astype(np.float64)\n",
        "  test_images = pd.concat([test_filepaths, test_bpms], axis=1).sample(frac=1.0, random_state=1).reset_index(drop=True)\n",
        "  test_image_df = test_images.sample(len(test_images), random_state = 1).reset_index(drop=True)\n",
        "  test_generator = tf.keras.preprocessing.image.ImageDataGenerator(\n",
        "  )\n",
        "  test_images_flow = test_generator.flow_from_dataframe(\n",
        "      dataframe=test_image_df,\n",
        "      x_col='Filepath',\n",
        "      y_col='BPMS',\n",
        "      target_size=(216, 144),\n",
        "      color_mode='rgb',\n",
        "      class_mode='raw',\n",
        "      batch_size=32,\n",
        "      shuffle=False\n",
        "  )\n",
        "  predicted_bpm = np.squeeze(model.predict(test_images_flow))\n",
        "  true_bpm  = test_images_flow.labels\n",
        "  print(\"v\" + str(i) + \": \" + str(np.mean(np.abs(predicted_bpm-true_bpm))))"
      ],
      "metadata": {
        "id": "iPzZLEyuD2Iz",
        "colab": {
          "base_uri": "https://localhost:8080/"
        },
        "outputId": "a1e4c3e0-7638-4504-9ebc-0f49ee4d0e67"
      },
      "execution_count": null,
      "outputs": [
        {
          "output_type": "stream",
          "name": "stdout",
          "text": [
            "Found 104 validated image filenames.\n",
            "v1: 8.637015840838323\n",
            "Found 106 validated image filenames.\n",
            "v2: 8.715689803338698\n"
          ]
        }
      ]
    },
    {
      "cell_type": "code",
      "source": [
        "test_image_dir = Path('/content/drive/MyDrive/Data/CNN ICA/source3/v3-v5')\n",
        "test_filepaths = pd.Series(list(test_image_dir.glob(r'**/*.png')), name='Filepath').astype(str)\n",
        "test_bpms = pd.Series(test_filepaths.apply(lambda x: (os.path.split(os.path.split(x)[1])[1])[:-4]), name='BPMS').astype(np.float64)\n",
        "test_images = pd.concat([test_filepaths, test_bpms], axis=1).sample(frac=1.0, random_state=1).reset_index(drop=True)\n",
        "test_image_df = test_images.sample(len(test_images), random_state = 1).reset_index(drop=True)\n",
        "test_generator = tf.keras.preprocessing.image.ImageDataGenerator(\n",
        "  )\n",
        "test_images_flow = test_generator.flow_from_dataframe(\n",
        "      dataframe=test_image_df,\n",
        "      x_col='Filepath',\n",
        "      y_col='BPMS',\n",
        "      target_size=(216, 144),\n",
        "      color_mode='rgb',\n",
        "      class_mode='raw',\n",
        "      batch_size=32,\n",
        "      shuffle=False\n",
        "  )\n",
        "predicted_bpm = np.squeeze(model.predict(test_images_flow))\n",
        "true_bpm  = test_images_flow.labels\n",
        "print(\"v\" + str(i) + \": \" + str(np.mean(np.abs(predicted_bpm-true_bpm))))"
      ],
      "metadata": {
        "colab": {
          "base_uri": "https://localhost:8080/"
        },
        "id": "rKq6dJtkKAtW",
        "outputId": "5e2fc49f-5704-49d1-f325-095c2e28af66"
      },
      "execution_count": null,
      "outputs": [
        {
          "output_type": "stream",
          "name": "stdout",
          "text": [
            "Found 210 validated image filenames.\n",
            "v2: 8.365731668721322\n"
          ]
        }
      ]
    },
    {
      "cell_type": "code",
      "source": [
        "for i in range(4,5):  \n",
        "  test_image_dir = Path('/content/drive/MyDrive/Data/CNN ICA/source3/v{}'.format(i))\n",
        "  test_filepaths = pd.Series(list(test_image_dir.glob(r'**/*.png')), name='Filepath').astype(str)\n",
        "  test_bpms = pd.Series(test_filepaths.apply(lambda x: (os.path.split(os.path.split(x)[1])[1])[:-4]), name='BPMS').astype(np.float64)\n",
        "  test_images = pd.concat([test_filepaths, test_bpms], axis=1).sample(frac=1.0, random_state=1).reset_index(drop=True)\n",
        "  test_image_df = test_images.sample(len(test_images), random_state = 1).reset_index(drop=True)\n",
        "  test_generator = tf.keras.preprocessing.image.ImageDataGenerator(\n",
        "  )\n",
        "  test_images_flow = test_generator.flow_from_dataframe(\n",
        "      dataframe=test_image_df,\n",
        "      x_col='Filepath',\n",
        "      y_col='BPMS',\n",
        "      target_size=(216, 144),\n",
        "      color_mode='rgb',\n",
        "      class_mode='raw',\n",
        "      batch_size=32,\n",
        "      shuffle=False\n",
        "  )\n",
        "  predicted_bpm = np.squeeze(model.predict(test_images_flow))\n",
        "  true_bpm  = test_images_flow.labels\n",
        "  print(\"v\" + str(i) + \": \" + str(np.mean(np.abs(predicted_bpm-true_bpm))))"
      ],
      "metadata": {
        "colab": {
          "base_uri": "https://localhost:8080/"
        },
        "id": "0BrADyIZLEoM",
        "outputId": "27939399-6ff4-4078-e839-220bbcf961b5"
      },
      "execution_count": null,
      "outputs": [
        {
          "output_type": "stream",
          "name": "stdout",
          "text": [
            "Found 105 validated image filenames.\n",
            "v4: 8.003995001853502\n"
          ]
        }
      ]
    },
    {
      "cell_type": "code",
      "source": [
        ""
      ],
      "metadata": {
        "id": "K8H8nc-ZL_aI"
      },
      "execution_count": null,
      "outputs": []
    }
  ]
}