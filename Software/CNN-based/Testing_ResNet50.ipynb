{
  "nbformat": 4,
  "nbformat_minor": 0,
  "metadata": {
    "colab": {
      "name": "Testing ResNet50.ipynb",
      "provenance": []
    },
    "kernelspec": {
      "name": "python3",
      "display_name": "Python 3"
    },
    "language_info": {
      "name": "python"
    }
  },
  "cells": [
    {
      "cell_type": "markdown",
      "source": [
        "**Loading All the Library Needed**"
      ],
      "metadata": {
        "id": "Lj7yJaCSwDkk"
      }
    },
    {
      "cell_type": "code",
      "execution_count": null,
      "metadata": {
        "colab": {
          "base_uri": "https://localhost:8080/"
        },
        "id": "ShzLINsWpLhF",
        "outputId": "e5193f5a-e49c-4b11-cd34-d3cc69ba09d6"
      },
      "outputs": [
        {
          "output_type": "stream",
          "name": "stdout",
          "text": [
            "Drive already mounted at /content/drive; to attempt to forcibly remount, call drive.mount(\"/content/drive\", force_remount=True).\n"
          ]
        }
      ],
      "source": [
        "from google.colab import drive\n",
        "drive.mount('/content/drive')"
      ]
    },
    {
      "cell_type": "code",
      "source": [
        "import numpy as np\n",
        "import pandas as pd\n",
        "from pathlib import Path\n",
        "from sklearn.model_selection import train_test_split\n",
        "import os.path\n",
        "\n",
        "import tensorflow as tf\n",
        "from keras.models import Sequential\n",
        "from keras.layers import Dense, Conv2D, MaxPool2D , Flatten\n",
        "\n",
        "from tensorflow import keras\n",
        "\n",
        "from sklearn.metrics import r2_score"
      ],
      "metadata": {
        "id": "NErZ3p5dvw9c"
      },
      "execution_count": null,
      "outputs": []
    },
    {
      "cell_type": "markdown",
      "source": [
        "# ICA"
      ],
      "metadata": {
        "id": "kdz56PWdwMDf"
      }
    },
    {
      "cell_type": "markdown",
      "source": [
        "**Loading the Model**"
      ],
      "metadata": {
        "id": "Zh2ZwzaD8cIm"
      }
    },
    {
      "cell_type": "code",
      "source": [
        "from keras.models import model_from_json\n",
        "json_file = open('/content/drive/MyDrive/Data/Model/ResNet50/ICA/model.json', 'r')\n",
        "model_json = json_file.read()\n",
        "json_file.close()\n",
        "# Loading the model\n",
        "model_ica = model_from_json(model_json)\n",
        "# Loading the weights\n",
        "model_ica.load_weights('/content/drive/MyDrive/Data/Model/ResNet50/ICA/model.h5')\n",
        "print('Model is successfully loaded from Drive')\n",
        "print(model_ica.summary())\n"
      ],
      "metadata": {
        "colab": {
          "base_uri": "https://localhost:8080/"
        },
        "id": "VtONCCu2v9IR",
        "outputId": "2a7d9b58-d335-45c6-efd9-2c2c9cbd296a"
      },
      "execution_count": null,
      "outputs": [
        {
          "output_type": "stream",
          "name": "stdout",
          "text": [
            "Model is successfully loaded from Drive\n",
            "Model: \"model\"\n",
            "_________________________________________________________________\n",
            " Layer (type)                Output Shape              Param #   \n",
            "=================================================================\n",
            " input_2 (InputLayer)        [(None, 216, 144, 3)]     0         \n",
            "                                                                 \n",
            " resnet50 (Functional)       (None, 7, 5, 2048)        23587712  \n",
            "                                                                 \n",
            " global_average_pooling2d (G  (None, 2048)             0         \n",
            " lobalAveragePooling2D)                                          \n",
            "                                                                 \n",
            " dense (Dense)               (None, 1)                 2049      \n",
            "                                                                 \n",
            "=================================================================\n",
            "Total params: 23,589,761\n",
            "Trainable params: 2,049\n",
            "Non-trainable params: 23,587,712\n",
            "_________________________________________________________________\n",
            "None\n"
          ]
        }
      ]
    },
    {
      "cell_type": "markdown",
      "source": [
        "**Evaluation Looping for Each Version in Source 3**"
      ],
      "metadata": {
        "id": "_E4378IFxk7u"
      }
    },
    {
      "cell_type": "code",
      "source": [
        "def evaluate(model, base, i):\n",
        "  image_dir = Path('/content/drive/MyDrive/Data/CNN {}/source3/v{}'.format(base, i))\n",
        "  filepaths = pd.Series(list(image_dir.glob(r'**/*.png')), name='Filepath').astype(str)\n",
        "  bpms = pd.Series(filepaths.apply(lambda x: (os.path.split(os.path.split(x)[1])[1])[:-4]), name='BPMS').astype(np.float64)\n",
        "  images = pd.concat([filepaths, bpms], axis=1).sample(frac=1.0, random_state=1).reset_index(drop=True)\n",
        "\n",
        "  # Printing Info\n",
        "  print(\"-----Currently Working on Version {}-----\".format(i))\n",
        "  print('Total Data: {}'.format(len(images)))\n",
        "\n",
        "  # Building Test Generator\n",
        "  test_image_df = images.sample(len(images), random_state = 1).reset_index(drop=True)\n",
        "  test_generator = tf.keras.preprocessing.image.ImageDataGenerator()\n",
        "  test_images_flow = test_generator.flow_from_dataframe(\n",
        "    dataframe=test_image_df,\n",
        "    x_col='Filepath',\n",
        "    y_col='BPMS',\n",
        "    target_size=(216, 144),\n",
        "    color_mode='rgb',\n",
        "    class_mode='raw',\n",
        "    batch_size=32,\n",
        "    shuffle=False\n",
        "  )\n",
        "\n",
        "  predicted_bpm = np.squeeze(model.predict(test_images_flow))\n",
        "  true_bpm = test_images_flow.labels\n",
        "\n",
        "  # Getting MAE\n",
        "  mae = np.mean(np.abs(predicted_bpm-true_bpm))\n",
        "  print('MAE for Version {}: {}'.format(i, mae))"
      ],
      "metadata": {
        "id": "9hI00UqkxYKi"
      },
      "execution_count": null,
      "outputs": []
    },
    {
      "cell_type": "code",
      "source": [
        "for i in range(1,8):\n",
        "  evaluate(model_ica, 'ICA', i)"
      ],
      "metadata": {
        "colab": {
          "base_uri": "https://localhost:8080/"
        },
        "id": "ds3Xa2P50qpY",
        "outputId": "96dbed82-d85b-452b-e93d-0eff462d9f18"
      },
      "execution_count": null,
      "outputs": [
        {
          "output_type": "stream",
          "name": "stdout",
          "text": [
            "-----Currently Working on Version 1-----\n",
            "Total Data: 104\n",
            "Found 104 validated image filenames.\n",
            "MAE for Version 1: 9.082215682790396\n",
            "-----Currently Working on Version 2-----\n",
            "Total Data: 106\n",
            "Found 106 validated image filenames.\n",
            "MAE for Version 2: 8.922269029337262\n",
            "-----Currently Working on Version 3-----\n",
            "Total Data: 105\n",
            "Found 105 validated image filenames.\n",
            "MAE for Version 3: 8.495436463556759\n",
            "-----Currently Working on Version 4-----\n",
            "Total Data: 105\n",
            "Found 105 validated image filenames.\n",
            "MAE for Version 4: 8.529060150024444\n",
            "-----Currently Working on Version 5-----\n",
            "Total Data: 105\n",
            "Found 105 validated image filenames.\n",
            "MAE for Version 5: 8.663434029765222\n",
            "-----Currently Working on Version 6-----\n",
            "Total Data: 105\n",
            "Found 105 validated image filenames.\n",
            "MAE for Version 6: 8.540507026789756\n",
            "-----Currently Working on Version 7-----\n",
            "Total Data: 105\n",
            "Found 105 validated image filenames.\n",
            "MAE for Version 7: 20.007090793908684\n"
          ]
        }
      ]
    },
    {
      "cell_type": "markdown",
      "source": [
        "# CHROM"
      ],
      "metadata": {
        "id": "oshbpBOY8lfQ"
      }
    },
    {
      "cell_type": "markdown",
      "source": [
        "**Loading the Model**"
      ],
      "metadata": {
        "id": "HzhqXolk8pUd"
      }
    },
    {
      "cell_type": "code",
      "source": [
        "from keras.models import model_from_json\n",
        "json_file = open('/content/drive/MyDrive/Data/Model/ResNet50/CHROM/model.json', 'r')\n",
        "model_json = json_file.read()\n",
        "json_file.close()\n",
        "# Loading the model\n",
        "model_chrom = model_from_json(model_json)\n",
        "# Loading the weights\n",
        "model_chrom.load_weights('/content/drive/MyDrive/Data/Model/ResNet50/CHROM/model.h5')\n",
        "print('Model is successfully loaded from Drive')\n",
        "print(model_chrom.summary())"
      ],
      "metadata": {
        "colab": {
          "base_uri": "https://localhost:8080/"
        },
        "id": "ouMqMewt8nU_",
        "outputId": "9d1a15bb-0775-4509-ea8a-955f4004db91"
      },
      "execution_count": null,
      "outputs": [
        {
          "output_type": "stream",
          "name": "stdout",
          "text": [
            "Model is successfully loaded from Drive\n",
            "Model: \"model\"\n",
            "_________________________________________________________________\n",
            " Layer (type)                Output Shape              Param #   \n",
            "=================================================================\n",
            " input_2 (InputLayer)        [(None, 216, 144, 3)]     0         \n",
            "                                                                 \n",
            " resnet50 (Functional)       (None, 7, 5, 2048)        23587712  \n",
            "                                                                 \n",
            " global_average_pooling2d (G  (None, 2048)             0         \n",
            " lobalAveragePooling2D)                                          \n",
            "                                                                 \n",
            " dense (Dense)               (None, 1)                 2049      \n",
            "                                                                 \n",
            "=================================================================\n",
            "Total params: 23,589,761\n",
            "Trainable params: 2,049\n",
            "Non-trainable params: 23,587,712\n",
            "_________________________________________________________________\n",
            "None\n"
          ]
        }
      ]
    },
    {
      "cell_type": "code",
      "source": [
        "for i in range(1,8):\n",
        "  evaluate(model_chrom, 'Chrom', i)"
      ],
      "metadata": {
        "colab": {
          "base_uri": "https://localhost:8080/"
        },
        "id": "OIbP89hX8ylg",
        "outputId": "792fc814-51e5-4f21-c646-86c0ea5deb80"
      },
      "execution_count": null,
      "outputs": [
        {
          "output_type": "stream",
          "name": "stdout",
          "text": [
            "-----Currently Working on Version 1-----\n",
            "Total Data: 102\n",
            "Found 102 validated image filenames.\n",
            "MAE for Version 1: 9.944390187371987\n",
            "-----Currently Working on Version 2-----\n",
            "Total Data: 106\n",
            "Found 106 validated image filenames.\n",
            "MAE for Version 2: 9.779602466836627\n",
            "-----Currently Working on Version 3-----\n",
            "Total Data: 106\n",
            "Found 106 validated image filenames.\n",
            "MAE for Version 3: 9.78047891152726\n",
            "-----Currently Working on Version 4-----\n",
            "Total Data: 101\n",
            "Found 101 validated image filenames.\n",
            "MAE for Version 4: 9.614909307913292\n",
            "-----Currently Working on Version 5-----\n",
            "Total Data: 100\n",
            "Found 100 validated image filenames.\n",
            "MAE for Version 5: 9.284984950267695\n",
            "-----Currently Working on Version 6-----\n",
            "Total Data: 101\n",
            "Found 101 validated image filenames.\n",
            "MAE for Version 6: 10.663767186893319\n",
            "-----Currently Working on Version 7-----\n",
            "Total Data: 103\n",
            "Found 103 validated image filenames.\n",
            "MAE for Version 7: 20.153807632567357\n"
          ]
        }
      ]
    },
    {
      "cell_type": "markdown",
      "source": [
        "# PCA"
      ],
      "metadata": {
        "id": "4vYFgjaQ-Y4x"
      }
    },
    {
      "cell_type": "markdown",
      "source": [
        "**Loading the Model**"
      ],
      "metadata": {
        "id": "TNQYT6Do-bvm"
      }
    },
    {
      "cell_type": "code",
      "source": [
        "json_file = open('/content/drive/MyDrive/Data/Model/ResNet50/PCA/model.json', 'r')\n",
        "model_json = json_file.read()\n",
        "json_file.close()\n",
        "# Loading the model\n",
        "model_pca = model_from_json(model_json)\n",
        "# Loading the weights\n",
        "model_pca.load_weights('/content/drive/MyDrive/Data/Model/ResNet50/PCA/model.h5')\n",
        "print('Model is successfully loaded from Drive')\n",
        "print(model_pca.summary())"
      ],
      "metadata": {
        "colab": {
          "base_uri": "https://localhost:8080/"
        },
        "id": "qakX2QJ8-ahN",
        "outputId": "aeddce6d-9282-459b-b59f-f9d9a3bb0dbe"
      },
      "execution_count": null,
      "outputs": [
        {
          "output_type": "stream",
          "name": "stdout",
          "text": [
            "Model is successfully loaded from Drive\n",
            "Model: \"model\"\n",
            "_________________________________________________________________\n",
            " Layer (type)                Output Shape              Param #   \n",
            "=================================================================\n",
            " input_2 (InputLayer)        [(None, 216, 144, 3)]     0         \n",
            "                                                                 \n",
            " resnet50 (Functional)       (None, 7, 5, 2048)        23587712  \n",
            "                                                                 \n",
            " global_average_pooling2d (G  (None, 2048)             0         \n",
            " lobalAveragePooling2D)                                          \n",
            "                                                                 \n",
            " dense (Dense)               (None, 1)                 2049      \n",
            "                                                                 \n",
            "=================================================================\n",
            "Total params: 23,589,761\n",
            "Trainable params: 2,049\n",
            "Non-trainable params: 23,587,712\n",
            "_________________________________________________________________\n",
            "None\n"
          ]
        }
      ]
    },
    {
      "cell_type": "code",
      "source": [
        "for i in range(1,8):\n",
        "  evaluate(model_pca, 'PCA', i)"
      ],
      "metadata": {
        "colab": {
          "base_uri": "https://localhost:8080/"
        },
        "id": "BXKizZ6R-lxg",
        "outputId": "c6be3639-fc77-45c2-e00b-46da8df4216d"
      },
      "execution_count": null,
      "outputs": [
        {
          "output_type": "stream",
          "name": "stdout",
          "text": [
            "-----Currently Working on Version 1-----\n",
            "Total Data: 103\n",
            "Found 103 validated image filenames.\n",
            "MAE for Version 1: 9.57114319179824\n",
            "-----Currently Working on Version 2-----\n",
            "Total Data: 106\n",
            "Found 106 validated image filenames.\n",
            "MAE for Version 2: 9.36528295165355\n",
            "-----Currently Working on Version 3-----\n",
            "Total Data: 106\n",
            "Found 106 validated image filenames.\n",
            "MAE for Version 3: 8.475681589622344\n",
            "-----Currently Working on Version 4-----\n",
            "Total Data: 105\n",
            "Found 105 validated image filenames.\n",
            "MAE for Version 4: 8.136586739538894\n",
            "-----Currently Working on Version 5-----\n",
            "Total Data: 105\n",
            "Found 105 validated image filenames.\n",
            "MAE for Version 5: 9.220450787839253\n",
            "-----Currently Working on Version 6-----\n",
            "Total Data: 105\n",
            "Found 105 validated image filenames.\n",
            "MAE for Version 6: 8.45721107686777\n",
            "-----Currently Working on Version 7-----\n",
            "Total Data: 104\n",
            "Found 104 validated image filenames.\n",
            "MAE for Version 7: 20.295903612600856\n"
          ]
        }
      ]
    }
  ]
}